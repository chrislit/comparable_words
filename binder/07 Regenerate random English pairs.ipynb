{
 "cells": [
  {
   "cell_type": "markdown",
   "metadata": {},
   "source": [
    "### Set-up and initialization"
   ]
  },
  {
   "cell_type": "code",
   "execution_count": 1,
   "metadata": {},
   "outputs": [],
   "source": [
    "import os\n",
    "import numpy as np"
   ]
  },
  {
   "cell_type": "code",
   "execution_count": 2,
   "metadata": {},
   "outputs": [],
   "source": [
    "fn = 'realwords.txt'"
   ]
  },
  {
   "cell_type": "code",
   "execution_count": 3,
   "metadata": {},
   "outputs": [],
   "source": [
    "with open(fn) as file:\n",
    "    words = [_.strip() for _ in file.readlines()]"
   ]
  },
  {
   "cell_type": "markdown",
   "metadata": {},
   "source": [
    "### Sampling and output"
   ]
  },
  {
   "cell_type": "code",
   "execution_count": 4,
   "metadata": {},
   "outputs": [],
   "source": [
    "np.random.seed(838)\n",
    "\n",
    "samples=2400\n",
    "\n",
    "pairs = np.random.choice(words, size=samples*2, replace=False)\n",
    "pairs = list(zip(pairs[:samples], pairs[samples:]))\n",
    "\n",
    "with open('../random_words.csv', 'w') as f:\n",
    "    f.write('word1,word2\\n')\n",
    "    for w1, w2 in pairs:\n",
    "        f.write(f\"{w1},{w2}\\n\")"
   ]
  },
  {
   "cell_type": "code",
   "execution_count": 5,
   "metadata": {},
   "outputs": [],
   "source": [
    "np.random.seed(3360)\n",
    "\n",
    "samples=2400\n",
    "\n",
    "pairs = np.random.choice(words, size=samples*3, replace=False)\n",
    "pairs = list(filter(lambda w: len(w)<13, pairs))\n",
    "pairs = list(zip(pairs[:samples], pairs[-samples:]))\n",
    "\n",
    "with open('../random_words_maxlen12.csv', 'w') as f:\n",
    "    f.write('word1,word2\\n')\n",
    "    for w1, w2 in pairs:\n",
    "        f.write(f\"{w1},{w2}\\n\")"
   ]
  }
 ],
 "metadata": {
  "kernelspec": {
   "display_name": "Python 3",
   "language": "python",
   "name": "python3"
  },
  "language_info": {
   "codemirror_mode": {
    "name": "ipython",
    "version": 3
   },
   "file_extension": ".py",
   "mimetype": "text/x-python",
   "name": "python",
   "nbconvert_exporter": "python",
   "pygments_lexer": "ipython3",
   "version": "3.7.3"
  }
 },
 "nbformat": 4,
 "nbformat_minor": 2
}
