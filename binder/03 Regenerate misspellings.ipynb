{
 "cells": [
  {
   "cell_type": "markdown",
   "metadata": {},
   "source": [
    "## Misspellings\n",
    "\n",
    "#### Set-up and initialization"
   ]
  },
  {
   "cell_type": "code",
   "execution_count": 1,
   "metadata": {},
   "outputs": [],
   "source": [
    "import os\n",
    "import random\n",
    "import urllib.request"
   ]
  },
  {
   "cell_type": "code",
   "execution_count": 2,
   "metadata": {},
   "outputs": [],
   "source": [
    "try:\n",
    "    os.mkdir('temp')\n",
    "except FileExistsError:\n",
    "    pass\n",
    "\n",
    "if os.path.isfile('./realwords.txt'):\n",
    "    with open('./realwords.txt') as rw_file:\n",
    "        realwords = {_.strip() for _ in rw_file.readlines()}\n",
    "else:\n",
    "    realwords = set()"
   ]
  },
  {
   "cell_type": "code",
   "execution_count": 3,
   "metadata": {},
   "outputs": [],
   "source": [
    "banned_pairs = {\n",
    "    'calendar,calender',\n",
    "    'payed,paid',\n",
    "    'autor,author',\n",
    "    'substancial,substantial',\n",
    "    'wille,will',\n",
    "    'gardner,gardener',\n",
    "    'ocasional,occasional',\n",
    "    'trafic,traffic',\n",
    "}\n",
    "banned_pairs = {tuple(pair.split(',')) for pair in banned_pairs}\n",
    "\n",
    "for fn in ['cognates', 'cognates_maxlen12', 'homophones', 'homophones_maxlen12']:\n",
    "    with open(f'../{fn}.csv') as fh:\n",
    "        banned_pairs |= {tuple(pair.strip().split(',')) for pair in fh.readlines()[1:]}\n",
    "banned_pairs |= {(_[1], _[0]) for _ in banned_pairs}"
   ]
  },
  {
   "cell_type": "markdown",
   "metadata": {},
   "source": [
    "#### Grab basis dataset"
   ]
  },
  {
   "cell_type": "code",
   "execution_count": 4,
   "metadata": {},
   "outputs": [],
   "source": [
    "urls = [\n",
    "    'https://raw.githubusercontent.com/chrislit/abydos/master/tests/corpora/misspellings.csv',\n",
    "    'https://raw.githubusercontent.com/chrislit/abydos/master/tests/corpora/wikipediaCommonMisspellings.csv'\n",
    "]\n",
    "for url in urls:\n",
    "    urllib.request.urlretrieve(url, os.path.join('temp', url.split('/')[-1]))"
   ]
  },
  {
   "cell_type": "code",
   "execution_count": 5,
   "metadata": {},
   "outputs": [],
   "source": [
    "misspellings = set()\n",
    "for fn in ['wikipediaCommonMisspellings', 'misspellings']:\n",
    "    with open(os.path.join('temp', f'{fn}.csv')) as file:\n",
    "        next(file)\n",
    "        for line in file:\n",
    "            misspellings.add(line.strip())\n",
    "misspellings = {tuple(_.split(',')) for _ in misspellings}\n",
    "\n",
    "for _, word in misspellings:\n",
    "    realwords.add(word)\n",
    "\n",
    "misspellings -= banned_pairs"
   ]
  },
  {
   "cell_type": "markdown",
   "metadata": {},
   "source": [
    "#### Randomly select from the misspellings and write output"
   ]
  },
  {
   "cell_type": "code",
   "execution_count": 6,
   "metadata": {},
   "outputs": [],
   "source": [
    "random.seed(832)\n",
    "misspellings1 = sorted(misspellings)\n",
    "random.shuffle(misspellings1)\n",
    "with open('../misspellings.csv', 'w') as file:\n",
    "    file.write('error,corrected\\n')\n",
    "    for pair in misspellings1[:2400]:\n",
    "        file.write(','.join(pair)+'\\n')"
   ]
  },
  {
   "cell_type": "code",
   "execution_count": 7,
   "metadata": {},
   "outputs": [],
   "source": [
    "random.seed(23487)\n",
    "misspellings2 = set()\n",
    "for a,b in misspellings:\n",
    "    if len(a) < 13 and len(b) < 13:\n",
    "        misspellings2.add((a,b))\n",
    "misspellings2 = sorted(misspellings2)\n",
    "random.shuffle(misspellings2)\n",
    "with open('../misspellings_maxlen12.csv', 'w') as file:\n",
    "    file.write('error,corrected\\n')\n",
    "    for pair in misspellings2[:2400]:\n",
    "        file.write(','.join(pair)+'\\n')"
   ]
  },
  {
   "cell_type": "markdown",
   "metadata": {},
   "source": [
    "#### Save our realwords list"
   ]
  },
  {
   "cell_type": "code",
   "execution_count": 8,
   "metadata": {},
   "outputs": [],
   "source": [
    "realwords = sorted(realwords)\n",
    "with open('./realwords.txt', 'w') as rw_file:\n",
    "    for word in realwords:\n",
    "        rw_file.write(word+'\\n')"
   ]
  }
 ],
 "metadata": {
  "kernelspec": {
   "display_name": "Python 3",
   "language": "python",
   "name": "python3"
  },
  "language_info": {
   "codemirror_mode": {
    "name": "ipython",
    "version": 3
   },
   "file_extension": ".py",
   "mimetype": "text/x-python",
   "name": "python",
   "nbconvert_exporter": "python",
   "pygments_lexer": "ipython3",
   "version": "3.7.3"
  }
 },
 "nbformat": 4,
 "nbformat_minor": 2
}
