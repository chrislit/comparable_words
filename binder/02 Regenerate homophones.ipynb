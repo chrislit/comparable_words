{
 "cells": [
  {
   "cell_type": "markdown",
   "metadata": {},
   "source": [
    "## Homophones\n",
    "\n",
    "#### Set-up and initialization"
   ]
  },
  {
   "cell_type": "code",
   "execution_count": 1,
   "metadata": {},
   "outputs": [],
   "source": [
    "import os\n",
    "import random\n",
    "import urllib.request\n",
    "from itertools import combinations\n",
    "\n",
    "import pandas as pd"
   ]
  },
  {
   "cell_type": "code",
   "execution_count": 2,
   "metadata": {},
   "outputs": [],
   "source": [
    "try:\n",
    "    os.mkdir('temp')\n",
    "except FileExistsError:\n",
    "    pass\n",
    "\n",
    "if os.path.isfile('./realwords.txt'):\n",
    "    with open('./realwords.txt') as rw_file:\n",
    "        realwords = {_.strip() for _ in rw_file.readlines()}\n",
    "else:\n",
    "    realwords = set()"
   ]
  },
  {
   "cell_type": "markdown",
   "metadata": {},
   "source": [
    "#### Grab basis dataset"
   ]
  },
  {
   "cell_type": "code",
   "execution_count": 3,
   "metadata": {},
   "outputs": [],
   "source": [
    "#urls = [\n",
    "#    'https://raw.githubusercontent.com/TSMMark/homophone/master/lib/assets/homophone_list.csv',\n",
    "#    'http://members.peak.org/~jeremy/dictionaryclassic/chapters/homophones.php'\n",
    "#]\n",
    "#for url in urls:\n",
    "#    urllib.request.urlretrieve(url, os.path.join('temp', url.split('/')[-1]))"
   ]
  },
  {
   "cell_type": "code",
   "execution_count": 4,
   "metadata": {},
   "outputs": [],
   "source": [
    "df = pd.read_csv(os.path.join('temp', 'homophone_list.csv'))\n",
    "df = df.iloc[:,-2:]\n",
    "df = df.to_dict('records')\n",
    "\n",
    "extr = {}\n",
    "for rec in df:\n",
    "    w = rec['spelling']\n",
    "    n = rec['relation_id']\n",
    "    if n not in extr:\n",
    "        extr[n] = set()\n",
    "    extr[n].add(w)\n",
    "\n",
    "homophones = []\n",
    "for rec in extr.values():\n",
    "    homophones += combinations(rec, 2)"
   ]
  },
  {
   "cell_type": "code",
   "execution_count": 5,
   "metadata": {},
   "outputs": [],
   "source": [
    "with open(os.path.join('temp', 'homophones.php')) as file:\n",
    "    wordlist = file.read()\n",
    "\n",
    "wordlist = wordlist[wordlist.find('<pre>')+5:wordlist.find('</pre>')].strip().split('\\n')\n",
    "wordlist = [_.split(',') for _ in wordlist]\n",
    "\n",
    "for words in wordlist:\n",
    "    words = [_.strip() for _ in words]\n",
    "    homophones += combinations(words, 2)"
   ]
  },
  {
   "cell_type": "code",
   "execution_count": 6,
   "metadata": {},
   "outputs": [],
   "source": [
    "homophones = sorted(set(homophones), key=lambda tup: tup[0])\n",
    "for word1, word2 in homophones:\n",
    "    realwords.add(word1)\n",
    "    realwords.add(word2)"
   ]
  },
  {
   "cell_type": "markdown",
   "metadata": {},
   "source": [
    "#### Randomly select from the misspellings and write output"
   ]
  },
  {
   "cell_type": "code",
   "execution_count": 7,
   "metadata": {},
   "outputs": [],
   "source": [
    "def reorder(pair):\n",
    "    return pair[::-1] if random.choice((True, False)) else pair"
   ]
  },
  {
   "cell_type": "code",
   "execution_count": 8,
   "metadata": {},
   "outputs": [],
   "source": [
    "random.seed(2345)\n",
    "homophones = [sorted(_) for _ in sorted(homophones)]\n",
    "\n",
    "homophones1 = sorted(homophones)\n",
    "random.shuffle(homophones1)\n",
    "with open('../homophones.csv', 'w') as file:\n",
    "    file.write('word1,word2\\n')\n",
    "    rev_val = True\n",
    "    for pair in homophones1[:2400]:\n",
    "        file.write(','.join(reorder(pair))+'\\n')"
   ]
  },
  {
   "cell_type": "code",
   "execution_count": 9,
   "metadata": {},
   "outputs": [],
   "source": [
    "homophones2 = []\n",
    "for a,b in sorted(homophones):\n",
    "    if len(a) < 13 and len(b) < 13:\n",
    "        homophones2.append((a,b))\n",
    "homophones2 = sorted(homophones2)\n",
    "random.seed(437)\n",
    "random.shuffle(homophones2)\n",
    "with open('../homophones_maxlen12.csv', 'w') as file:\n",
    "    file.write('word1,word2\\n')\n",
    "    rev_val = True\n",
    "    for pair in homophones2[:2400]:\n",
    "        file.write(','.join(reorder(pair))+'\\n')"
   ]
  },
  {
   "cell_type": "markdown",
   "metadata": {},
   "source": [
    "#### Save our realwords list"
   ]
  },
  {
   "cell_type": "code",
   "execution_count": 10,
   "metadata": {},
   "outputs": [],
   "source": [
    "realwords = sorted(realwords)\n",
    "with open('./realwords.txt', 'w') as rw_file:\n",
    "    for word in realwords:\n",
    "        rw_file.write(word+'\\n')"
   ]
  }
 ],
 "metadata": {
  "kernelspec": {
   "display_name": "Python 3",
   "language": "python",
   "name": "python3"
  },
  "language_info": {
   "codemirror_mode": {
    "name": "ipython",
    "version": 3
   },
   "file_extension": ".py",
   "mimetype": "text/x-python",
   "name": "python",
   "nbconvert_exporter": "python",
   "pygments_lexer": "ipython3",
   "version": "3.7.3"
  }
 },
 "nbformat": 4,
 "nbformat_minor": 2
}
