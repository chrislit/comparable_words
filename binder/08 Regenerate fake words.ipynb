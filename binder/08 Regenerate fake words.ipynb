{
 "cells": [
  {
   "cell_type": "markdown",
   "metadata": {},
   "source": [
    "### Set-up and initialization"
   ]
  },
  {
   "cell_type": "code",
   "execution_count": 1,
   "metadata": {},
   "outputs": [],
   "source": [
    "import fictionary\n",
    "import hunspell\n",
    "\n",
    "import numpy as np\n",
    "import random"
   ]
  },
  {
   "cell_type": "code",
   "execution_count": 2,
   "metadata": {},
   "outputs": [],
   "source": [
    "with open('realwords.txt', 'r') as f:\n",
    "    realwords = set(_.strip() for _ in f.readlines())\n",
    "banned = set(_.lower() for _ in realwords)"
   ]
  },
  {
   "cell_type": "code",
   "execution_count": 3,
   "metadata": {},
   "outputs": [],
   "source": [
    "hobj = hunspell.HunSpell('/usr/share/hunspell/en_US.dic', '/usr/share/hunspell/en_US.aff')"
   ]
  },
  {
   "cell_type": "markdown",
   "metadata": {},
   "source": [
    "### Sampling and output"
   ]
  },
  {
   "cell_type": "code",
   "execution_count": null,
   "metadata": {},
   "outputs": [],
   "source": [
    "random.seed(3473)\n",
    "samples = 2400\n",
    "fakes = set(fictionary.words(2*samples, min_length=4, max_length=12, dictionary='all'))\n",
    "fakes -= banned\n",
    "while len(fakes) < 2*samples:\n",
    "    fakes |= set(fictionary.words(2*samples-len(fakes), min_length=4, max_length=12, dictionary='all'))\n",
    "    fakes -= banned\n",
    "fakes = sorted(fakes)\n",
    "random.shuffle(fakes)"
   ]
  },
  {
   "cell_type": "code",
   "execution_count": null,
   "metadata": {},
   "outputs": [],
   "source": [
    "corrected = []\n",
    "for fw in fakes:\n",
    "    if len(corrected) < samples:\n",
    "        suggestions = hobj.suggest(fw)\n",
    "        if suggestions:\n",
    "            corrected.append(suggestions[0])\n",
    "\n",
    "with open('../fake_words.csv', 'w') as f:\n",
    "    f.write('error,corrected\\n')\n",
    "    for w1, w2 in zip(fakes, corrected):\n",
    "        f.write(f\"{w1},{w2}\\n\")"
   ]
  },
  {
   "cell_type": "code",
   "execution_count": null,
   "metadata": {},
   "outputs": [],
   "source": [
    "random.seed(98986)\n",
    "samples = 2400\n",
    "fakes = set(fictionary.words(2*samples, min_length=4, max_length=12, dictionary='all'))\n",
    "fakes -= banned\n",
    "while len(fakes) < 2*samples:\n",
    "    fakes |= set(fictionary.words(2*samples-len(fakes), min_length=4, max_length=12, dictionary='all'))\n",
    "    fakes -= banned\n",
    "fakes = sorted(fakes)\n",
    "random.shuffle(fakes)"
   ]
  },
  {
   "cell_type": "code",
   "execution_count": null,
   "metadata": {},
   "outputs": [],
   "source": [
    "corrected = []\n",
    "for fw in fakes:\n",
    "    if len(corrected) < samples:\n",
    "        suggestions = hobj.suggest(fw)\n",
    "        if suggestions:\n",
    "            i = 0\n",
    "            while i < len(suggestions) and len(suggestions[i]) > 12:\n",
    "                i += 1\n",
    "            if i < len(suggestions):\n",
    "                corrected.append(suggestions[i])\n",
    "\n",
    "with open('../fake_words_maxlen12.csv', 'w') as f:\n",
    "    f.write('error,corrected\\n')\n",
    "    for w1, w2 in zip(fakes, corrected):\n",
    "        f.write(f\"{w1},{w2}\\n\")"
   ]
  }
 ],
 "metadata": {
  "kernelspec": {
   "display_name": "Python 3",
   "language": "python",
   "name": "python3"
  },
  "language_info": {
   "codemirror_mode": {
    "name": "ipython",
    "version": 3
   },
   "file_extension": ".py",
   "mimetype": "text/x-python",
   "name": "python",
   "nbconvert_exporter": "python",
   "pygments_lexer": "ipython3",
   "version": "3.7.3"
  }
 },
 "nbformat": 4,
 "nbformat_minor": 2
}
