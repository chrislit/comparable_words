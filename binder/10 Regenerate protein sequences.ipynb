{
 "cells": [
  {
   "cell_type": "markdown",
   "metadata": {},
   "source": [
    "## Amino acid sequences\n",
    "\n",
    "#### Set-up and initialization"
   ]
  },
  {
   "cell_type": "code",
   "execution_count": 1,
   "metadata": {},
   "outputs": [],
   "source": [
    "import os\n",
    "import random\n",
    "import urllib\n",
    "\n",
    "import numpy as np"
   ]
  },
  {
   "cell_type": "code",
   "execution_count": 2,
   "metadata": {},
   "outputs": [],
   "source": [
    "if (not os.path.isfile(os.path.join('temp', 'uniref50.lines')) and\n",
    "    not os.path.isfile(os.path.join('temp', 'uniref50.fasta'))):\n",
    "    url = 'ftp://ftp.uniprot.org/pub/databases/uniprot/uniref/uniref50/uniref50.fasta.gz'\n",
    "    urllib.request.urlretrieve(url, os.path.join('temp', url.split('/')[-1]))\n",
    "\n",
    "    import gzip\n",
    "    import shutil\n",
    "    with gzip.open(os.path.join('temp', url.split('/')[-1]), 'rb') as f_in:\n",
    "        with open(os.path.join('temp', 'uniref50.fasta'), 'wb') as f_out:\n",
    "            shutil.copyfileobj(f_in, f_out)"
   ]
  },
  {
   "cell_type": "code",
   "execution_count": 3,
   "metadata": {},
   "outputs": [
    {
     "data": {
      "text/plain": [
       "35763834"
      ]
     },
     "execution_count": 3,
     "metadata": {},
     "output_type": "execute_result"
    }
   ],
   "source": [
    "count = 0\n",
    "if not os.path.isfile(os.path.join('temp', 'uniref50.lines')):\n",
    "    line_ct = 0\n",
    "    with open(os.path.join('temp', 'uniref50.lines'), 'w') as f_out:\n",
    "        with open(os.path.join('temp', 'uniref50.fasta'), 'r') as f_in:\n",
    "            for line in f_in:\n",
    "                line_ct += 1\n",
    "                if line and line[0] == '>':\n",
    "                    if count:\n",
    "                        f_out.write('\\n')\n",
    "                    count += 1\n",
    "                else:\n",
    "                    f_out.write(line.strip())\n",
    "            f_out.write('\\n')\n",
    "else:\n",
    "    with open(os.path.join('temp', 'uniref50.lines')) as f_count:\n",
    "        for line in f_count:\n",
    "            count += 1\n",
    "count"
   ]
  },
  {
   "cell_type": "markdown",
   "metadata": {},
   "source": [
    "### Sampling and output"
   ]
  },
  {
   "cell_type": "code",
   "execution_count": 4,
   "metadata": {},
   "outputs": [],
   "source": [
    "np.random.seed(231555)\n",
    "selections_ordered = list(np.random.choice(count, 4800, replace=False))\n",
    "selections = set(selections_ordered)\n",
    "\n",
    "proteins = {}\n",
    "line_no = 0\n",
    "with open(os.path.join('temp', 'uniref50.lines'), 'r') as f_in:\n",
    "    for line in f_in:\n",
    "        if line_no in selections:\n",
    "            proteins[line_no] = line.strip()\n",
    "        line_no += 1"
   ]
  },
  {
   "cell_type": "code",
   "execution_count": 5,
   "metadata": {},
   "outputs": [],
   "source": [
    "with open('../proteins.csv', 'w') as f_out:\n",
    "    f_out.write('protein1,protein2\\n')\n",
    "    for i in range(len(selections_ordered)):\n",
    "        f_out.write(proteins[selections_ordered[i]])\n",
    "        f_out.write('\\n' if i%2 else ',')"
   ]
  },
  {
   "cell_type": "code",
   "execution_count": 6,
   "metadata": {},
   "outputs": [],
   "source": [
    "random.seed(3747)\n",
    "with open('../proteins_len12.csv', 'w') as f_out:\n",
    "    f_out.write('protein1,protein2\\n')\n",
    "    for i in range(len(selections_ordered)):\n",
    "        subsample = proteins[selections_ordered[i]]\n",
    "        start = random.randint(0, len(subsample)-12)\n",
    "        f_out.write(subsample[start:start+12])\n",
    "        f_out.write('\\n' if i%2 else ',')"
   ]
  }
 ],
 "metadata": {
  "kernelspec": {
   "display_name": "Python 3",
   "language": "python",
   "name": "python3"
  },
  "language_info": {
   "codemirror_mode": {
    "name": "ipython",
    "version": 3
   },
   "file_extension": ".py",
   "mimetype": "text/x-python",
   "name": "python",
   "nbconvert_exporter": "python",
   "pygments_lexer": "ipython3",
   "version": "3.7.3"
  }
 },
 "nbformat": 4,
 "nbformat_minor": 2
}
