{
 "cells": [
  {
   "cell_type": "markdown",
   "metadata": {},
   "source": [
    "## Amino acid sequences\n",
    "\n",
    "#### Set-up and initialization"
   ]
  },
  {
   "cell_type": "code",
   "execution_count": 1,
   "metadata": {},
   "outputs": [],
   "source": [
    "import os\n",
    "import random\n",
    "import urllib\n",
    "import re\n",
    "\n",
    "import numpy as np"
   ]
  },
  {
   "cell_type": "code",
   "execution_count": 2,
   "metadata": {},
   "outputs": [],
   "source": [
    "if not os.path.isfile(os.path.join('temp', 'SCOP95.fasta')):\n",
    "    url = 'http://pongor.itk.ppke.hu/benchmark/partials/repository/SCOP95/SCOP95.fasta'\n",
    "    urllib.request.urlretrieve(url, os.path.join('temp', url.split('/')[-1]))"
   ]
  },
  {
   "cell_type": "code",
   "execution_count": 3,
   "metadata": {},
   "outputs": [
    {
     "data": {
      "text/plain": [
       "(2290, 8121)"
      ]
     },
     "execution_count": 3,
     "metadata": {},
     "output_type": "execute_result"
    }
   ],
   "source": [
    "count = 0\n",
    "proteins = {}\n",
    "\n",
    "with open(os.path.join('temp', 'SCOP95.fasta'), 'r') as fh:\n",
    "    for line in fh:\n",
    "        if line and line[0] == '>':\n",
    "            line = re.sub('\\{.+?\\}', '', line)\n",
    "            name = ' '.join(line.strip().split()[3:])\n",
    "            if name not in proteins:\n",
    "                proteins[name] = []\n",
    "                # print(name)\n",
    "        elif line:\n",
    "            seq = line.strip()\n",
    "            proteins[name].append(seq)\n",
    "            count += 1\n",
    "\n",
    "for p in list(proteins.keys()):\n",
    "    if len(proteins[p]) < 2:\n",
    "        del proteins[p]\n",
    "        count -= 1\n",
    "\n",
    "len(proteins), count"
   ]
  },
  {
   "cell_type": "markdown",
   "metadata": {},
   "source": [
    "#### Sampling and output"
   ]
  },
  {
   "cell_type": "code",
   "execution_count": 4,
   "metadata": {},
   "outputs": [],
   "source": [
    "np.random.seed(231555)\n",
    "selections_ordered = list(np.random.choice(len(proteins), 5000, replace=True))\n",
    "selections = set(selections_ordered)\n",
    "\n",
    "protein_names = sorted(proteins.keys())"
   ]
  },
  {
   "cell_type": "code",
   "execution_count": 5,
   "metadata": {},
   "outputs": [],
   "source": [
    "random.seed(271)\n",
    "pairs = []\n",
    "for pn in selections_ordered:\n",
    "    if len(pairs) < 2400:\n",
    "        seqs = proteins[protein_names[pn]]\n",
    "        samp = random.sample(seqs, 2)\n",
    "        if samp[0] != samp[1] and samp not in pairs and samp[::-1] not in pairs:\n",
    "            pairs.append(samp)\n",
    "\n",
    "with open('../proteins.csv', 'w') as f_out:\n",
    "    f_out.write('protein1,protein2\\n')\n",
    "    for pair in pairs:\n",
    "        f_out.write(f'{\",\".join(pair)}\\n')"
   ]
  },
  {
   "cell_type": "code",
   "execution_count": 6,
   "metadata": {},
   "outputs": [],
   "source": [
    "random.seed(3747)\n",
    "pairs = []\n",
    "for pn in selections_ordered:\n",
    "    if len(pairs) < 2400:\n",
    "        seqs = proteins[protein_names[pn]]\n",
    "        samp = [_[:12] for _ in random.sample(seqs, 2)]\n",
    "        if samp[0] != samp[1] and samp not in pairs and samp[::-1] not in pairs:\n",
    "            pairs.append(samp)\n",
    "\n",
    "with open('../proteins_len12.csv', 'w') as f_out:\n",
    "    f_out.write('protein1,protein2\\n')\n",
    "    for pair in pairs:\n",
    "        f_out.write(f'{\",\".join(pair)}\\n')"
   ]
  }
 ],
 "metadata": {
  "kernelspec": {
   "display_name": "Python 3",
   "language": "python",
   "name": "python3"
  },
  "language_info": {
   "codemirror_mode": {
    "name": "ipython",
    "version": 3
   },
   "file_extension": ".py",
   "mimetype": "text/x-python",
   "name": "python",
   "nbconvert_exporter": "python",
   "pygments_lexer": "ipython3",
   "version": "3.7.3"
  }
 },
 "nbformat": 4,
 "nbformat_minor": 2
}
