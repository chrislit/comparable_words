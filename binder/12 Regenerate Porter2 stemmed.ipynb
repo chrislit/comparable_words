{
 "cells": [
  {
   "cell_type": "markdown",
   "metadata": {},
   "source": [
    "## Homophones\n",
    "\n",
    "#### Set-up and initialization"
   ]
  },
  {
   "cell_type": "code",
   "execution_count": 1,
   "metadata": {},
   "outputs": [],
   "source": [
    "import os\n",
    "import random\n",
    "\n",
    "from abydos.stemmer import Porter2\n",
    "stemmer = Porter2()"
   ]
  },
  {
   "cell_type": "code",
   "execution_count": 2,
   "metadata": {},
   "outputs": [],
   "source": [
    "try:\n",
    "    os.mkdir('temp')\n",
    "except FileExistsError:\n",
    "    pass\n",
    "\n",
    "if os.path.isfile('./realwords_conj.txt'):\n",
    "    with open('./realwords_conj.txt') as rw_file:\n",
    "        realwords = {_.strip() for _ in rw_file.readlines()}"
   ]
  },
  {
   "cell_type": "code",
   "execution_count": 3,
   "metadata": {},
   "outputs": [],
   "source": [
    "banned_pairs = {\n",
    "}\n",
    "banned_pairs = {tuple(pair.split(',')) for pair in banned_pairs}\n",
    "for fn in ['cognates', 'cognates_maxlen12', 'homophones', 'homophones_maxlen12',\n",
    "           'misspellings', 'misspellings_maxlen12', 'surnames', 'surnames_maxlen12',\n",
    "           'forenames', 'forenames_maxlen12', 'typos',\n",
    "           'fake_words', 'fake_words_maxlen12', 'random_words', 'random_words_maxlen12',\n",
    "           'conjugated', 'conjugated_maxlen12']:\n",
    "    with open(f'../{fn}.csv') as fh:\n",
    "        new_pairs = {tuple(pair.strip().split(',')) for pair in fh.readlines()[1:]}\n",
    "        for pair in new_pairs:\n",
    "            if len(pair[0]) < 1 or len(pair[1]) < 1:\n",
    "                print(pair)\n",
    "        banned_pairs |= new_pairs\n",
    "banned_pairs |= {(_[1], _[0]) for _ in banned_pairs}\n",
    "banned_pairs |= {(_[0].lower(), _[1].lower()) for _ in banned_pairs}\n",
    "banned_pairs |= {(_[1].lower(), _[0].lower()) for _ in banned_pairs}\n",
    "banned_pairs |= {(_[0][0].upper()+_[0][1:], _[1][0].upper()+_[1][1:]) for _ in banned_pairs}\n",
    "banned_pairs |= {(_[1][0].upper()+_[1][1:], _[0][0].upper()+_[0][1:]) for _ in banned_pairs}"
   ]
  },
  {
   "cell_type": "markdown",
   "metadata": {},
   "source": [
    "#### Randomly select from realwords_conj.txt and write output"
   ]
  },
  {
   "cell_type": "code",
   "execution_count": 4,
   "metadata": {},
   "outputs": [],
   "source": [
    "random.seed(222354)\n",
    "realwords = sorted(realwords)\n",
    "random.shuffle(realwords)\n",
    "wc = 0\n",
    "\n",
    "with open('../porter.csv', 'w') as file:\n",
    "    file.write('stem,word\\n')\n",
    "    for word in realwords:\n",
    "        if wc < 2400:\n",
    "            stem = stemmer.stem(word)\n",
    "            if word != stem and (word, stem) not in banned_pairs:\n",
    "                file.write(f'{stem},{word}\\n')\n",
    "                wc += 1"
   ]
  },
  {
   "cell_type": "code",
   "execution_count": 5,
   "metadata": {},
   "outputs": [],
   "source": [
    "random.seed(47473)\n",
    "realwords = sorted(realwords)\n",
    "random.shuffle(realwords)\n",
    "wc = 0\n",
    "\n",
    "with open('../porter_maxlen12.csv', 'w') as file:\n",
    "    file.write('stem,word\\n')\n",
    "    for word in realwords:\n",
    "        if len(word) < 13 and wc < 2400:\n",
    "            stem = stemmer.stem(word)\n",
    "            if word != stem and (word, stem) not in banned_pairs:\n",
    "                file.write(f'{stem},{word}\\n')\n",
    "                wc += 1"
   ]
  }
 ],
 "metadata": {
  "kernelspec": {
   "display_name": "Python 3",
   "language": "python",
   "name": "python3"
  },
  "language_info": {
   "codemirror_mode": {
    "name": "ipython",
    "version": 3
   },
   "file_extension": ".py",
   "mimetype": "text/x-python",
   "name": "python",
   "nbconvert_exporter": "python",
   "pygments_lexer": "ipython3",
   "version": "3.7.3"
  }
 },
 "nbformat": 4,
 "nbformat_minor": 2
}
