{
 "cells": [
  {
   "cell_type": "markdown",
   "metadata": {},
   "source": [
    "## Homophones\n",
    "\n",
    "#### Set-up and initialization"
   ]
  },
  {
   "cell_type": "code",
   "execution_count": 1,
   "metadata": {},
   "outputs": [],
   "source": [
    "import os\n",
    "import random\n",
    "import re\n",
    "import urllib.request\n",
    "from itertools import combinations, permutations\n",
    "\n",
    "import requests\n",
    "from bs4 import BeautifulSoup\n",
    "import pandas as pd"
   ]
  },
  {
   "cell_type": "code",
   "execution_count": 2,
   "metadata": {},
   "outputs": [],
   "source": [
    "try:\n",
    "    os.mkdir('temp')\n",
    "except FileExistsError:\n",
    "    pass\n",
    "\n",
    "if os.path.isfile('./realwords.txt'):\n",
    "    with open('./realwords.txt') as rw_file:\n",
    "        realwords = {_.strip() for _ in rw_file.readlines()}\n",
    "else:\n",
    "    realwords = set()"
   ]
  },
  {
   "cell_type": "code",
   "execution_count": 3,
   "metadata": {},
   "outputs": [],
   "source": [
    "banned_pairs = set()\n",
    "for fn in ['cognates', 'cognates_maxlen12', 'homophones', 'homophones_maxlen12',\n",
    "           'misspellings', 'misspellings_maxlen12', 'surnames', 'surnames_maxlen12',\n",
    "           'forenames', 'forenames_maxlen12', 'typos',\n",
    "           'fake_words', 'fake_words_maxlen12', 'random_words', 'random_words_maxlen12']:\n",
    "    with open(f'../{fn}.csv') as fh:\n",
    "        new_pairs = {tuple(pair.strip().split(',')) for pair in fh.readlines()[1:]}\n",
    "        banned_pairs |= new_pairs\n",
    "banned_pairs |= {(_[1], _[0]) for _ in banned_pairs}\n",
    "banned_pairs |= {(_[0].lower(), _[1].lower()) for _ in banned_pairs}\n",
    "banned_pairs |= {(_[1].lower(), _[0].lower()) for _ in banned_pairs}\n",
    "banned_pairs |= {(_[0][0].upper()+_[0][1:], _[1][0].upper()+_[1][1:]) for _ in banned_pairs}\n",
    "banned_pairs |= {(_[1][0].upper()+_[1][1:], _[0][0].upper()+_[0][1:]) for _ in banned_pairs}"
   ]
  },
  {
   "cell_type": "markdown",
   "metadata": {},
   "source": [
    "#### Grab basis dataset"
   ]
  },
  {
   "cell_type": "code",
   "execution_count": 4,
   "metadata": {},
   "outputs": [],
   "source": [
    "def clean(s):\n",
    "    s = s.replace('†', '')\n",
    "    s = s.replace('*', '')\n",
    "    s = s.replace('/', ' ')\n",
    "    s = re.sub(r'\\(.+?\\)', '', s)\n",
    "    return s.strip()\n",
    "\n",
    "url = \"https://en.wiktionary.org/wiki/Appendix:English_irregular_verbs\"\n",
    "\n",
    "res = requests.get(url, headers={'Cache-Control': 'no-cache'})\n",
    "soup = BeautifulSoup(res.content,'lxml')\n",
    "conj = []\n",
    "for row in soup.table.tbody.find_all('tr')[1:]:\n",
    "    cell = row.find('td').find_all('i')\n",
    "    conj += cell\n",
    "\n",
    "conj = [clean(_.text).split() for _ in conj]"
   ]
  },
  {
   "cell_type": "code",
   "execution_count": 5,
   "metadata": {},
   "outputs": [],
   "source": [
    "url = \"https://www.usingenglish.com/reference/irregular-verbs/\"\n",
    "\n",
    "res = requests.get(url, headers={'Cache-Control': 'no-cache'})\n",
    "soup = BeautifulSoup(res.content,'lxml')\n",
    "table = soup.find_all('table')\n",
    "df = pd.read_html(str(table))\n",
    "\n",
    "conj += list(df[0].dropna().apply(lambda x: clean(' '.join(str(_).lower() for _ in x)).replace(',', '').split(), axis=1))"
   ]
  },
  {
   "cell_type": "code",
   "execution_count": 6,
   "metadata": {},
   "outputs": [],
   "source": [
    "conj_dict = {}\n",
    "for words in conj:\n",
    "    if words[0] not in conj_dict:\n",
    "        conj_dict[words[0]] = set()\n",
    "    conj_dict[words[0]] |= set(words)"
   ]
  },
  {
   "cell_type": "code",
   "execution_count": 7,
   "metadata": {},
   "outputs": [],
   "source": [
    "url = 'https://raw.githubusercontent.com/en-wl/wordlist/master/agid/infl.txt'\n",
    "if not os.path.isfile(os.path.join('temp', 'infl.txt')):\n",
    "    urllib.request.urlretrieve(url, os.path.join('temp', url.split('/')[-1]))\n",
    "\n",
    "with open(os.path.join('temp', 'infl.txt')) as fh:\n",
    "    lines = [_.strip() for _ in fh.readlines()]"
   ]
  },
  {
   "cell_type": "code",
   "execution_count": 8,
   "metadata": {},
   "outputs": [],
   "source": [
    "def clean(s):\n",
    "    for _ in '|:~<>!{}':\n",
    "        if _ in s:\n",
    "            return ''\n",
    "    if s[0].isdigit():\n",
    "        return ''\n",
    "    return s.replace(',', '')\n",
    "    \n",
    "    \n",
    "new_lines = []\n",
    "for line in lines:\n",
    "    if line[0] != line[0].upper():\n",
    "        if '?' not in line and 'V' in line:\n",
    "            line = [clean(_) for _ in line.split() if clean(_)]\n",
    "            if len(line) > 1:\n",
    "                new_lines.append(line)"
   ]
  },
  {
   "cell_type": "code",
   "execution_count": 9,
   "metadata": {},
   "outputs": [],
   "source": [
    "random.seed(377)\n",
    "random.shuffle(new_lines)"
   ]
  },
  {
   "cell_type": "code",
   "execution_count": 10,
   "metadata": {},
   "outputs": [],
   "source": [
    "n = 500\n",
    "for line in new_lines:\n",
    "    if line[0] in conj_dict:\n",
    "        conj_dict[line[0]] |= set(line[1:])\n",
    "    elif n > 0:\n",
    "        n -= 1\n",
    "        conj_dict[line[0]] = set(line[1:])"
   ]
  },
  {
   "cell_type": "code",
   "execution_count": 11,
   "metadata": {},
   "outputs": [],
   "source": [
    "conj_list = []\n",
    "for infinitive in sorted(conj_dict.keys()):\n",
    "    for conjugate in sorted(conj_dict[infinitive]):\n",
    "        if infinitive != conjugate and infinitive and conjugate:\n",
    "            conj_list.append((conjugate, infinitive))"
   ]
  },
  {
   "cell_type": "markdown",
   "metadata": {},
   "source": [
    "#### Randomly select from the misspellings and write output"
   ]
  },
  {
   "cell_type": "code",
   "execution_count": 12,
   "metadata": {},
   "outputs": [],
   "source": [
    "conj = conj_list[:]\n",
    "\n",
    "random.seed(227)\n",
    "random.shuffle(conj)\n",
    "wc = 0\n",
    "\n",
    "with open('../conjugated.csv', 'w') as file:\n",
    "    file.write('conjugated,infinitive\\n')\n",
    "    for pair in conj:\n",
    "        if pair not in banned_pairs and wc < 2400:\n",
    "            file.write(','.join(pair)+'\\n')\n",
    "            wc += 1"
   ]
  },
  {
   "cell_type": "code",
   "execution_count": 13,
   "metadata": {},
   "outputs": [],
   "source": [
    "conj = list(filter(lambda x: len(x[0]) < 13 and len(x[1]) < 13, conj_list))\n",
    "\n",
    "random.seed(77271)\n",
    "random.shuffle(conj)\n",
    "wc = 0\n",
    "\n",
    "with open('../conjugated_maxlen12.csv', 'w') as file:\n",
    "    file.write('conjugated,infinitive\\n')\n",
    "    for pair in conj:\n",
    "        if pair not in banned_pairs and wc < 2400:\n",
    "            file.write(','.join(pair)+'\\n')\n",
    "            wc += 1"
   ]
  },
  {
   "cell_type": "markdown",
   "metadata": {},
   "source": [
    "#### Write out list of real words"
   ]
  },
  {
   "cell_type": "code",
   "execution_count": 14,
   "metadata": {},
   "outputs": [],
   "source": [
    "for line in new_lines:\n",
    "    if line[0] in conj_dict:\n",
    "        conj_dict[line[0]] |= set(line[1:])\n",
    "    else:\n",
    "        conj_dict[line[0]] = set(line[1:])\n",
    "\n",
    "realwords = set(conj_dict.keys())\n",
    "for wl in conj_dict.values():\n",
    "    realwords |= wl\n",
    "\n",
    "realwords = sorted(realwords)\n",
    "with open('./realwords_conj.txt', 'w') as rw_file:\n",
    "    for word in sorted(realwords):\n",
    "        rw_file.write(word+'\\n')"
   ]
  }
 ],
 "metadata": {
  "kernelspec": {
   "display_name": "Python 3",
   "language": "python",
   "name": "python3"
  },
  "language_info": {
   "codemirror_mode": {
    "name": "ipython",
    "version": 3
   },
   "file_extension": ".py",
   "mimetype": "text/x-python",
   "name": "python",
   "nbconvert_exporter": "python",
   "pygments_lexer": "ipython3",
   "version": "3.7.3"
  }
 },
 "nbformat": 4,
 "nbformat_minor": 2
}
