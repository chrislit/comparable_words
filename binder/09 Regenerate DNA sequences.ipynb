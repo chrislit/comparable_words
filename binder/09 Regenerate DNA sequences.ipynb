{
 "cells": [
  {
   "cell_type": "markdown",
   "metadata": {},
   "source": [
    "## DNA\n",
    "\n",
    "#### Set-up and initialization"
   ]
  },
  {
   "cell_type": "code",
   "execution_count": 1,
   "metadata": {},
   "outputs": [],
   "source": [
    "import os\n",
    "import random\n",
    "import urllib\n",
    "\n",
    "import numpy as np"
   ]
  },
  {
   "cell_type": "code",
   "execution_count": 2,
   "metadata": {},
   "outputs": [],
   "source": [
    "if ((not os.path.isfile(os.path.join('temp', 'hg38.fa.align'))) and\n",
    "    (not os.path.isfile(os.path.join('temp', 'hg38.align.lines')))):\n",
    "    url = 'http://hgdownload.cse.ucsc.edu/goldenPath/hg38/bigZips/hg38.fa.align.gz'\n",
    "    urllib.request.urlretrieve(url, os.path.join('temp', url.split('/')[-1]))\n",
    "\n",
    "    import gzip\n",
    "    import shutil\n",
    "    with gzip.open(os.path.join('temp', url.split('/')[-1]), 'rb') as f_in:\n",
    "        with open(os.path.join('temp', 'hg38.fa.align'), 'wb') as f_out:\n",
    "            shutil.copyfileobj(f_in, f_out)"
   ]
  },
  {
   "cell_type": "code",
   "execution_count": 3,
   "metadata": {},
   "outputs": [
    {
     "data": {
      "text/plain": [
       "7203858"
      ]
     },
     "execution_count": 3,
     "metadata": {},
     "output_type": "execute_result"
    }
   ],
   "source": [
    "def is_number(s):\n",
    "    try:\n",
    "        float(s)\n",
    "        return True\n",
    "    except ValueError:\n",
    "        return False\n",
    "\n",
    "count = 0\n",
    "samp1 = ''\n",
    "samp2 = ''\n",
    "first = True\n",
    "if not os.path.isfile(os.path.join('temp', 'hg38.align.lines')):\n",
    "    with open(os.path.join('temp', 'hg38.align.lines'), 'w') as f_out:\n",
    "        with open(os.path.join('temp', 'hg38.fa.align'), 'r') as f_in:\n",
    "            for line in f_in:\n",
    "                line_s = line[:-1].split()\n",
    "                if line_s and line_s[0] in {'Matrix', 'Transitions', 'Gap_init'}:\n",
    "                    continue\n",
    "                if len(line_s) > 10 and (line_s[0].isdigit() and is_number(line_s[1]) and\n",
    "                                         is_number(line_s[2]) and is_number(line_s[3]) and\n",
    "                                         line_s[-1].isdigit() and line_s[5].isdigit() and\n",
    "                                         line_s[6].isdigit()):\n",
    "                    if count:\n",
    "                        f_out.write(f'{samp1},{samp2}\\n')\n",
    "                    count += 1\n",
    "                    samp1 = ''\n",
    "                    samp2 = ''\n",
    "                    first = True\n",
    "\n",
    "                elif line:\n",
    "                    line_s = line[16:].split()\n",
    "                    if line_s and line_s[0].isdigit() and line_s[2].isdigit():\n",
    "                        if first:\n",
    "                            samp1 += line_s[1].strip()\n",
    "                        else:\n",
    "                            samp2 += line_s[1].strip()\n",
    "                        first = not first\n",
    "\n",
    "        f_out.write(f'{samp1},{samp2}\\n')\n",
    "else:\n",
    "    with open(os.path.join('temp', 'hg38.align.lines')) as f_count:\n",
    "        for line in f_count:\n",
    "            count += 1\n",
    "count"
   ]
  },
  {
   "cell_type": "markdown",
   "metadata": {},
   "source": [
    "#### Sampling and output"
   ]
  },
  {
   "cell_type": "code",
   "execution_count": 4,
   "metadata": {},
   "outputs": [],
   "source": [
    "np.random.seed(44674)\n",
    "sel_ct = 2400\n",
    "selections_ordered = list(np.random.choice(count, sel_ct+400, replace=False))\n",
    "selections = set(selections_ordered)\n",
    "\n",
    "seqs = {}\n",
    "line_no = 0\n",
    "with open(os.path.join('temp', 'hg38.align.lines'), 'r') as f_in:\n",
    "    for line in f_in:\n",
    "        if line_no in selections:\n",
    "            seqs[line_no] = line.strip()\n",
    "        line_no += 1"
   ]
  },
  {
   "cell_type": "code",
   "execution_count": 5,
   "metadata": {},
   "outputs": [],
   "source": [
    "out_ct = 0\n",
    "sequences = set()\n",
    "\n",
    "with open('../hg38.csv', 'w') as f_out:\n",
    "    f_out.write('seq1,seq2\\n')\n",
    "    i = 0\n",
    "    while out_ct < sel_ct:\n",
    "        proposed = seqs[selections_ordered[i]].replace('-', '')\n",
    "        if proposed not in sequences:\n",
    "            sequences.add(proposed)\n",
    "            f_out.write(f'{proposed}\\n')\n",
    "            out_ct += 1\n",
    "        i += 1"
   ]
  },
  {
   "cell_type": "code",
   "execution_count": 6,
   "metadata": {},
   "outputs": [],
   "source": [
    "random.seed(23115)\n",
    "out_ct = 0\n",
    "sequences = []\n",
    "\n",
    "for i in range(len(selections_ordered)):\n",
    "    ss1,ss2 = seqs[selections_ordered[i]].split(',')\n",
    "\n",
    "    start = 0\n",
    "    if len(ss1)>12:\n",
    "        start = random.randint(0, len(ss1)-12)\n",
    "    ss1 = ss1[start:start+12].replace('-', '')\n",
    "    ss2 = ss2[start:start+12].replace('-', '')\n",
    "\n",
    "    if len(ss1) < 7 or len(ss2) < 7 or out_ct >= sel_ct or (ss1,ss2) in sequences:\n",
    "        continue\n",
    "    else:\n",
    "        sequences.append((ss1,ss2))\n",
    "        out_ct += 1\n",
    "\n",
    "random.shuffle(sequences)\n",
    "        \n",
    "with open('../hg38_maxlen12.csv', 'w') as f_out:\n",
    "    f_out.write('seq1,seq2\\n')\n",
    "    for ss1,ss2 in sequences:\n",
    "        f_out.write(f'{ss1},{ss2}\\n')"
   ]
  }
 ],
 "metadata": {
  "kernelspec": {
   "display_name": "Python 3",
   "language": "python",
   "name": "python3"
  },
  "language_info": {
   "codemirror_mode": {
    "name": "ipython",
    "version": 3
   },
   "file_extension": ".py",
   "mimetype": "text/x-python",
   "name": "python",
   "nbconvert_exporter": "python",
   "pygments_lexer": "ipython3",
   "version": "3.7.3"
  }
 },
 "nbformat": 4,
 "nbformat_minor": 2
}
