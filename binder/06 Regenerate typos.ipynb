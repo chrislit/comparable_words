{
 "cells": [
  {
   "cell_type": "markdown",
   "metadata": {},
   "source": [
    "### Set-up and initialization"
   ]
  },
  {
   "cell_type": "code",
   "execution_count": 1,
   "metadata": {},
   "outputs": [],
   "source": [
    "import urllib\n",
    "import os\n",
    "import random\n",
    "\n",
    "import numpy as np"
   ]
  },
  {
   "cell_type": "code",
   "execution_count": 2,
   "metadata": {},
   "outputs": [
    {
     "data": {
      "text/plain": [
       "('temp/typo-corpus-r1.txt', <http.client.HTTPMessage at 0x7fd154bee320>)"
      ]
     },
     "execution_count": 2,
     "metadata": {},
     "output_type": "execute_result"
    }
   ],
   "source": [
    "url = 'http://luululu.com/tweet/typo-corpus-r1.txt'\n",
    "urllib.request.urlretrieve(url, os.path.join('temp', url.split('/')[-1]))"
   ]
  },
  {
   "cell_type": "code",
   "execution_count": 3,
   "metadata": {},
   "outputs": [],
   "source": [
    "pairs = []\n",
    "with open(os.path.join('temp', url.split('/')[-1])) as file:\n",
    "    for line in file:\n",
    "        a,b = line.strip().split('\\t')[:2]\n",
    "        if (13 > len(a) > 3) and (13 > len(b) > 3):\n",
    "            pairs.append((a,b))"
   ]
  },
  {
   "cell_type": "code",
   "execution_count": 4,
   "metadata": {},
   "outputs": [],
   "source": [
    "banned_pairs = set()\n",
    "for fn in ['misspellings_maxlen12', 'homophones_maxlen12', 'cognates_maxlen12',\n",
    "           'misspellings', 'homophones', 'cognates']:\n",
    "    with open(f'../{fn}.csv') as file:\n",
    "        next(file)\n",
    "        for line in file:\n",
    "            banned_pairs.add(tuple(line.strip().lower().split(',')))"
   ]
  },
  {
   "cell_type": "markdown",
   "metadata": {},
   "source": [
    "### Sampling and output"
   ]
  },
  {
   "cell_type": "code",
   "execution_count": 5,
   "metadata": {},
   "outputs": [],
   "source": [
    "samples=2400\n",
    "pairs = sorted(set(pairs))\n",
    "np.random.seed(1337)        \n",
    "typos = {pairs[_] for _ in np.random.choice(len(pairs), size=samples+400, replace=False)} - banned_pairs\n",
    "\n",
    "typos = sorted(typos)\n",
    "random.shuffle(typos)\n",
    "\n",
    "with open('../typos.csv', 'w') as f:\n",
    "    f.write('error,correct\\n')\n",
    "    count = 0\n",
    "    for w1, w2 in typos[:2400]:\n",
    "        if count < samples:\n",
    "            f.write(f\"{w1},{w2}\\n\")\n",
    "            count += 1"
   ]
  }
 ],
 "metadata": {
  "kernelspec": {
   "display_name": "Python 3",
   "language": "python",
   "name": "python3"
  },
  "language_info": {
   "codemirror_mode": {
    "name": "ipython",
    "version": 3
   },
   "file_extension": ".py",
   "mimetype": "text/x-python",
   "name": "python",
   "nbconvert_exporter": "python",
   "pygments_lexer": "ipython3",
   "version": "3.7.3"
  }
 },
 "nbformat": 4,
 "nbformat_minor": 2
}
