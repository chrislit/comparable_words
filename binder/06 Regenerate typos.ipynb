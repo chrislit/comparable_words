{
 "cells": [
  {
   "cell_type": "markdown",
   "metadata": {},
   "source": [
    "## Typos\n",
    "\n",
    "#### Set-up and initialization"
   ]
  },
  {
   "cell_type": "code",
   "execution_count": 1,
   "metadata": {},
   "outputs": [],
   "source": [
    "import urllib\n",
    "import os\n",
    "import random\n",
    "\n",
    "import numpy as np"
   ]
  },
  {
   "cell_type": "code",
   "execution_count": 2,
   "metadata": {},
   "outputs": [],
   "source": [
    "url = 'http://luululu.com/tweet/typo-corpus-r1.txt'\n",
    "if not os.path.isfile(os.path.join('temp', 'typo-corpus-r1.txt')):\n",
    "    urllib.request.urlretrieve(url, os.path.join('temp', url.split('/')[-1]))"
   ]
  },
  {
   "cell_type": "code",
   "execution_count": 3,
   "metadata": {},
   "outputs": [],
   "source": [
    "pairs = []\n",
    "with open(os.path.join('temp', url.split('/')[-1])) as file:\n",
    "    for line in file:\n",
    "        a,b = line.strip().split('\\t')[:2]\n",
    "        if (13 > len(a) > 3) and (13 > len(b) > 3):\n",
    "            pairs.append((a,b))"
   ]
  },
  {
   "cell_type": "code",
   "execution_count": 4,
   "metadata": {},
   "outputs": [],
   "source": [
    "banned_pairs = set()\n",
    "for fn in ['cognates', 'cognates_maxlen12', 'homophones', 'homophones_maxlen12',\n",
    "           'misspellings', 'misspellings_maxlen12', 'surnames', 'surnames_maxlen12',\n",
    "           'forenames', 'forenames_maxlen12']:\n",
    "    with open(f'../{fn}.csv') as fh:\n",
    "        banned_pairs |= {tuple(pair.strip().split(',')) for pair in fh.readlines()[1:]}\n",
    "banned_pairs |= {(_[1], _[0]) for _ in banned_pairs}\n",
    "banned_pairs |= {(_[0].lower(), _[1].lower()) for _ in banned_pairs}\n",
    "banned_pairs |= {(_[1].lower(), _[0].lower()) for _ in banned_pairs}\n",
    "banned_pairs |= {(_[0][0].upper()+_[0][1:], _[1][0].upper()+_[1][1:]) for _ in banned_pairs}\n",
    "banned_pairs |= {(_[1][0].upper()+_[1][1:], _[0][0].upper()+_[0][1:]) for _ in banned_pairs}"
   ]
  },
  {
   "cell_type": "markdown",
   "metadata": {},
   "source": [
    "#### Sampling and output"
   ]
  },
  {
   "cell_type": "code",
   "execution_count": 5,
   "metadata": {},
   "outputs": [],
   "source": [
    "samples=2400\n",
    "pairs = sorted(set(pairs))\n",
    "np.random.seed(1337)        \n",
    "typos = {pairs[_] for _ in np.random.choice(len(pairs), size=samples+600, replace=False)}\n",
    "\n",
    "typos = sorted(typos)\n",
    "\n",
    "random.seed(3713)\n",
    "random.shuffle(typos)\n",
    "\n",
    "with open('../typos.csv', 'w') as f:\n",
    "    f.write('error,correct\\n')\n",
    "    count = 0\n",
    "    for w1, w2 in typos:\n",
    "        if count < samples and (w1,w2) not in banned_pairs and (w2,w1) not in banned_pairs:\n",
    "            banned_pairs.add((w1,w2))\n",
    "            f.write(f\"{w1},{w2}\\n\")\n",
    "            count += 1"
   ]
  }
 ],
 "metadata": {
  "kernelspec": {
   "display_name": "Python 3",
   "language": "python",
   "name": "python3"
  },
  "language_info": {
   "codemirror_mode": {
    "name": "ipython",
    "version": 3
   },
   "file_extension": ".py",
   "mimetype": "text/x-python",
   "name": "python",
   "nbconvert_exporter": "python",
   "pygments_lexer": "ipython3",
   "version": "3.7.3"
  }
 },
 "nbformat": 4,
 "nbformat_minor": 2
}
